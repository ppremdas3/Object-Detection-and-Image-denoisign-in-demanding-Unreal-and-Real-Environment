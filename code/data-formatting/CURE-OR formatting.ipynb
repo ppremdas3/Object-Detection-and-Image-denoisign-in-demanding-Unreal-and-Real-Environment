{
 "cells": [
  {
   "cell_type": "code",
   "execution_count": 1,
   "id": "847fc912-692c-42c7-8999-c886d1ed526d",
   "metadata": {},
   "outputs": [],
   "source": [
    "import os\n",
    "import shutil\n",
    "\n",
    "def organize_images(input_folder, output_folder):\n",
    "    # Create output folders if they don't exist\n",
    "    os.makedirs(output_folder, exist_ok=True)\n",
    "\n",
    "    # Create folders for noisy images\n",
    "    noise_types = ['underexposure', 'overexposure', 'blur', 'contrast', 'dirtylens-1', 'dirtylens-2', 'salt&pepper']\n",
    "    for noise_type in noise_types:\n",
    "        for level in range(1, 5):\n",
    "            folder_name = f'{noise_type}-level{level}'\n",
    "            os.makedirs(os.path.join(output_folder, folder_name), exist_ok=True)\n",
    "\n",
    "    # Create folders for ground truth and random images\n",
    "    os.makedirs(os.path.join(output_folder, 'challenge-free'), exist_ok=True)\n",
    "    os.makedirs(os.path.join(output_folder, 'random'), exist_ok=True)\n",
    "\n",
    "    # Organize images\n",
    "    image_files = sorted(os.listdir(input_folder))\n",
    "    for i, image_file in enumerate(image_files):\n",
    "        if i < 150:\n",
    "            shutil.copy(os.path.join(input_folder, image_file), os.path.join(output_folder, 'challenge-free'))\n",
    "        elif i < 750 and i % 600 == 150:\n",
    "            # Skip the next 600 random images\n",
    "            continue\n",
    "        else:\n",
    "            noise_type = noise_types[(i - 750) // 600]\n",
    "            level = ((i - 750) % 600) // 150 + 1\n",
    "            folder_name = f'{noise_type}-level{level}'\n",
    "            shutil.copy(os.path.join(input_folder, image_file), os.path.join(output_folder, folder_name))\n",
    "\n",
    "if __name__ == \"__main__\":\n",
    "    input_folder = 'D:/Pranav/Data/CURE-OR/train'\n",
    "    output_folder = 'D:/Pranav/Data/CURE-OR/images'\n",
    "    organize_images(input_folder, output_folder)\n"
   ]
  },
  {
   "cell_type": "code",
   "execution_count": null,
   "id": "8e069aed-aefc-4455-8ddb-fdea057d0f6e",
   "metadata": {},
   "outputs": [],
   "source": []
  }
 ],
 "metadata": {
  "kernelspec": {
   "display_name": "Python 3 (ipykernel)",
   "language": "python",
   "name": "python3"
  },
  "language_info": {
   "codemirror_mode": {
    "name": "ipython",
    "version": 3
   },
   "file_extension": ".py",
   "mimetype": "text/x-python",
   "name": "python",
   "nbconvert_exporter": "python",
   "pygments_lexer": "ipython3",
   "version": "3.11.5"
  }
 },
 "nbformat": 4,
 "nbformat_minor": 5
}
