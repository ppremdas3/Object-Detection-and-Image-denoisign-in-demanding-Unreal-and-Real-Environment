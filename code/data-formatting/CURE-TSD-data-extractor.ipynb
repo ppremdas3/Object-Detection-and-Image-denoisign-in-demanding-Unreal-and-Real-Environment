{
 "cells": [
  {
   "cell_type": "code",
   "execution_count": 1,
   "id": "7983ca4a-7ca7-4525-9f36-fb1b41df5df5",
   "metadata": {},
   "outputs": [],
   "source": [
    "import os\n",
    "import shutil\n",
    "\n",
    "# Specify the path to the folder containing video files\n",
    "video_folder = 'D:/Pranav/Data/CURE-TSD/data'\n",
    "\n",
    "# Create a dictionary to map challengeType to challenge names\n",
    "challenge_names = {\n",
    "    '00': 'No challenge',\n",
    "    '01': 'Decolorization',\n",
    "    '02': 'Lens blur',\n",
    "    '03': 'Codec error',\n",
    "    '04': 'Darkening',\n",
    "    '05': 'Dirty lens',\n",
    "    '06': 'Exposure',\n",
    "    '07': 'Gaussian blur',\n",
    "    '08': 'Noise',\n",
    "    '09': 'Rain',\n",
    "    '10': 'Shadow',\n",
    "    '11': 'Snow',\n",
    "    '12': 'Haze'\n",
    "}\n",
    "\n",
    "# Create output folders for each challenge type and level\n",
    "for challenge_type in challenge_names.keys():\n",
    "    if challenge_type != '00':  # No challenge has only one level\n",
    "        for challenge_level in range(1, 6):\n",
    "            folder_name = f\"{challenge_names[challenge_type]}-{challenge_level}\"\n",
    "            os.makedirs(os.path.join(video_folder, folder_name), exist_ok=True)\n"
   ]
  },
  {
   "cell_type": "code",
   "execution_count": 18,
   "id": "c11ca127-ccf3-493f-b1f5-1a9788216c30",
   "metadata": {},
   "outputs": [
    {
     "ename": "ValueError",
     "evalue": "not enough values to unpack (expected 5, got 1)",
     "output_type": "error",
     "traceback": [
      "\u001b[1;31m---------------------------------------------------------------------------\u001b[0m",
      "\u001b[1;31mValueError\u001b[0m                                Traceback (most recent call last)",
      "Cell \u001b[1;32mIn[18], line 10\u001b[0m\n\u001b[0;32m      7\u001b[0m video_file_path \u001b[38;5;241m=\u001b[39m os\u001b[38;5;241m.\u001b[39mpath\u001b[38;5;241m.\u001b[39mjoin(video_folder, video_file)\n\u001b[0;32m      9\u001b[0m \u001b[38;5;66;03m# Extract information from the filename\u001b[39;00m\n\u001b[1;32m---> 10\u001b[0m sequence_type, sequence_number, challenge_source_type, challenge_type, challenge_level_with_extension \u001b[38;5;241m=\u001b[39m video_file\u001b[38;5;241m.\u001b[39msplit(\u001b[38;5;124m'\u001b[39m\u001b[38;5;124m_\u001b[39m\u001b[38;5;124m'\u001b[39m)\n\u001b[0;32m     11\u001b[0m challenge_level, _ \u001b[38;5;241m=\u001b[39m os\u001b[38;5;241m.\u001b[39mpath\u001b[38;5;241m.\u001b[39msplitext(challenge_level_with_extension)\n\u001b[0;32m     13\u001b[0m \u001b[38;5;66;03m# Create the destination folder based on challenge type and level\u001b[39;00m\n",
      "\u001b[1;31mValueError\u001b[0m: not enough values to unpack (expected 5, got 1)"
     ]
    }
   ],
   "source": [
    "# Iterate through each video file in the folder\n",
    "for video_file in os.listdir(video_folder):\n",
    "    # Skip files starting with '._'\n",
    "    if video_file.startswith('._'):\n",
    "        continue\n",
    "\n",
    "    video_file_path = os.path.join(video_folder, video_file)\n",
    "\n",
    "    # Extract information from the filename\n",
    "    sequence_type, sequence_number, challenge_source_type, challenge_type, challenge_level_with_extension = video_file.split('_')\n",
    "    challenge_level, _ = os.path.splitext(challenge_level_with_extension)\n",
    "\n",
    "    # Create the destination folder based on challenge type and level\n",
    "    if challenge_type != '00':  # No challenge has only one level\n",
    "        folder_name = f\"{challenge_names[challenge_type]}-{challenge_level}\"\n",
    "        destination_folder = os.path.join(video_folder, folder_name)\n",
    "\n",
    "        # Ensure the destination folder exists\n",
    "        os.makedirs(destination_folder, exist_ok=True)\n",
    "\n",
    "        # Move the video file to the destination folder\n",
    "        shutil.move(video_file_path, os.path.join(destination_folder, video_file))\n",
    "\n",
    "print(\"Videos organized successfully.\")"
   ]
  },
  {
   "cell_type": "code",
   "execution_count": null,
   "id": "c3a7fa96-6e29-4e06-bb14-46adc686c7e1",
   "metadata": {},
   "outputs": [],
   "source": []
  }
 ],
 "metadata": {
  "kernelspec": {
   "display_name": "Python 3 (ipykernel)",
   "language": "python",
   "name": "python3"
  },
  "language_info": {
   "codemirror_mode": {
    "name": "ipython",
    "version": 3
   },
   "file_extension": ".py",
   "mimetype": "text/x-python",
   "name": "python",
   "nbconvert_exporter": "python",
   "pygments_lexer": "ipython3",
   "version": "3.11.5"
  }
 },
 "nbformat": 4,
 "nbformat_minor": 5
}
