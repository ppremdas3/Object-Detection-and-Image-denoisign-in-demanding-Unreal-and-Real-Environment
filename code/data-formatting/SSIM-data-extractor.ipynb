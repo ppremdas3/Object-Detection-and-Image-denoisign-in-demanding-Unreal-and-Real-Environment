{
 "cells": [
  {
   "cell_type": "code",
   "execution_count": 3,
   "id": "4bed0291-9eaa-4707-bb9d-507bc6a6a415",
   "metadata": {},
   "outputs": [
    {
     "name": "stdout",
     "output_type": "stream",
     "text": [
      "Images moved and renamed successfully.\n"
     ]
    }
   ],
   "source": [
    "import os\n",
    "import shutil\n",
    "\n",
    "# Specify the paths for the input data folder and output folders\n",
    "data_folder = 'D:/Pranav/Data/SIDD/SIDD_small/SIDD_Small_sRGB_Only/Data'\n",
    "ground_truth_folder = 'D:/Pranav/Data/SIDD/SIDD_small/SIDD_Small_sRGB_Only/ground_truth'\n",
    "noisy_images_folder = 'D:/Pranav/Data/SIDD/SIDD_small/SIDD_Small_sRGB_Only/noisy_images'\n",
    "\n",
    "# Create output folders if they don't exist\n",
    "os.makedirs(ground_truth_folder, exist_ok=True)\n",
    "os.makedirs(noisy_images_folder, exist_ok=True)\n",
    "\n",
    "# Counter for renaming images\n",
    "counter = 1\n",
    "\n",
    "# Iterate through each subfolder in the data folder\n",
    "for subfolder in os.listdir(data_folder):\n",
    "    subfolder_path = os.path.join(data_folder, subfolder)\n",
    "\n",
    "    # Check if it's a directory\n",
    "    if os.path.isdir(subfolder_path):\n",
    "        # Look for files starting with 'GT' and 'NOISY'\n",
    "        gt_image = [f for f in os.listdir(subfolder_path) if f.startswith('GT')]\n",
    "        noisy_image = [f for f in os.listdir(subfolder_path) if f.startswith('NOISY')]\n",
    "\n",
    "        # Ensure there is exactly one GT and one NOISY image\n",
    "        if len(gt_image) == 1 and len(noisy_image) == 1:\n",
    "            gt_image_path = os.path.join(subfolder_path, gt_image[0])\n",
    "            noisy_image_path = os.path.join(subfolder_path, noisy_image[0])\n",
    "\n",
    "            # Create new names for the images\n",
    "            new_gt_name = f\"{counter:03d}.png\"\n",
    "            new_noisy_name = f\"{counter:03d}.png\"\n",
    "\n",
    "            # Move the files to the respective output folders with new names\n",
    "            shutil.copy(gt_image_path, os.path.join(ground_truth_folder, new_gt_name))\n",
    "            shutil.copy(noisy_image_path, os.path.join(noisy_images_folder, new_noisy_name))\n",
    "\n",
    "            # Increment the counter\n",
    "            counter += 1\n",
    "\n",
    "print(\"Images moved and renamed successfully.\")\n"
   ]
  },
  {
   "cell_type": "code",
   "execution_count": null,
   "id": "c0cf390d-38b9-42ec-a3f7-d44252c0f391",
   "metadata": {},
   "outputs": [],
   "source": []
  }
 ],
 "metadata": {
  "kernelspec": {
   "display_name": "Python 3 (ipykernel)",
   "language": "python",
   "name": "python3"
  },
  "language_info": {
   "codemirror_mode": {
    "name": "ipython",
    "version": 3
   },
   "file_extension": ".py",
   "mimetype": "text/x-python",
   "name": "python",
   "nbconvert_exporter": "python",
   "pygments_lexer": "ipython3",
   "version": "3.11.5"
  }
 },
 "nbformat": 4,
 "nbformat_minor": 5
}
