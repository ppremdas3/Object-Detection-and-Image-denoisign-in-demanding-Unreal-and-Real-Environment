{
 "cells": [
  {
   "cell_type": "code",
   "execution_count": 1,
   "id": "fede1348-01dc-4c3a-8409-4b2bfe041440",
   "metadata": {},
   "outputs": [
    {
     "name": "stdout",
     "output_type": "stream",
     "text": [
      "Noise addition complete.\n"
     ]
    }
   ],
   "source": [
    "import os\n",
    "import cv2\n",
    "import numpy as np\n",
    "\n",
    "# Define the folder paths\n",
    "path = 'D:/Pranav/Data/Set-12'\n",
    "input_folder  = 'D:/Pranav/Data/Set-12/Ground-trurth'\n",
    "output_folders = ['Noisy-1', 'Noisy-2', 'Noisy-3']\n",
    "\n",
    "# Create output folders if they don't exist\n",
    "for folder in output_folders:\n",
    "    if not os.path.exists(path + '/' + folder):\n",
    "        os.makedirs(path + '/' + folder)\n",
    "\n",
    "# Function to add additive white Gaussian noise to an image\n",
    "def add_gaussian_noise(image, sigma):\n",
    "    row, col, ch = image.shape\n",
    "    mean = 0\n",
    "    gauss = np.random.normal(mean, sigma, (row, col, ch))\n",
    "    noisy = np.clip(image + gauss, 0, 255)\n",
    "    return noisy.astype(np.uint8)\n",
    "\n",
    "# Loop through each image in the input folder\n",
    "for filename in os.listdir(input_folder):\n",
    "    if filename.endswith(('.png')):\n",
    "        # Read the original image\n",
    "        image_path = os.path.join(input_folder, filename)\n",
    "        original_image = cv2.imread(image_path)\n",
    "\n",
    "        # Add noise for each sigma value and save in the corresponding output folder\n",
    "        for i, sigma in enumerate([10, 25, 50]):  # You can adjust the sigma values as needed\n",
    "            noisy_image = add_gaussian_noise(original_image, sigma)\n",
    "\n",
    "            # Save the noisy image\n",
    "            output_folder = output_folders[i]\n",
    "            output_path = os.path.join(path + '/' + output_folder, filename)\n",
    "            cv2.imwrite(output_path, noisy_image)\n",
    "\n",
    "print(\"Noise addition complete.\")\n"
   ]
  },
  {
   "cell_type": "code",
   "execution_count": null,
   "id": "6c2fc160-8c04-4b07-8d38-58954a32e1d6",
   "metadata": {},
   "outputs": [],
   "source": []
  }
 ],
 "metadata": {
  "kernelspec": {
   "display_name": "Python 3 (ipykernel)",
   "language": "python",
   "name": "python3"
  },
  "language_info": {
   "codemirror_mode": {
    "name": "ipython",
    "version": 3
   },
   "file_extension": ".py",
   "mimetype": "text/x-python",
   "name": "python",
   "nbconvert_exporter": "python",
   "pygments_lexer": "ipython3",
   "version": "3.11.5"
  }
 },
 "nbformat": 4,
 "nbformat_minor": 5
}
